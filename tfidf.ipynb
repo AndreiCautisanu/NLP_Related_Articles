{
 "cells": [
  {
   "cell_type": "code",
   "execution_count": 50,
   "id": "7dc91f4e",
   "metadata": {},
   "outputs": [],
   "source": [
    "import numpy as np\n",
    "import pandas as pd\n",
    "import matplotlib.pyplot as plt\n",
    "\n",
    "import nltk\n",
    "from nltk.corpus import stopwords\n",
    "from nltk.stem import WordNetLemmatizer\n",
    "import vaderSentiment\n",
    "import spacy\n",
    "from spacy import displacy\n",
    "from textblob import Word\n",
    "nlp = spacy.load('en_core_web_sm')\n",
    "\n",
    "from os import listdir\n",
    "import re\n",
    "import pickle\n",
    "\n",
    "from tqdm.notebook import trange, tqdm\n",
    "from IPython.display import display, clear_output\n",
    "\n",
    "\n",
    "from sklearn.feature_extraction.text import TfidfVectorizer\n",
    "from sklearn.metrics.pairwise import linear_kernel"
   ]
  },
  {
   "cell_type": "code",
   "execution_count": 12,
   "id": "bb711d37",
   "metadata": {},
   "outputs": [],
   "source": [
    "# get the articles into one dataframe\n",
    "\n",
    "dfs = []\n",
    "for x in [1, 2, 3]:\n",
    "    for chunk in pd.read_csv(f'./news/articles{x}.csv', chunksize = 100):\n",
    "        dfs.append(chunk)\n",
    "df = pd.concat(dfs, ignore_index=True)"
   ]
  },
  {
   "cell_type": "code",
   "execution_count": 7,
   "id": "44c0dda6",
   "metadata": {},
   "outputs": [],
   "source": [
    "# lemmatize and lowercase articles\n",
    "\n",
    "def preprocess(row):\n",
    "    from string import punctuation\n",
    "    \n",
    "    row = row.lower()\n",
    "    \n",
    "    punctuation = punctuation + '0123456789'\n",
    "    # punctuation\n",
    "    row = ' '.join([word for word in row.split() if word not in punctuation])\n",
    "    \n",
    "    # lemmatize\n",
    "    row = ' '.join([Word(word).lemmatize() for word in row.split()])\n",
    "    \n",
    "    # remove any extra whitespace\n",
    "    row = re.sub('\\s{1,}', ' ', row)\n",
    "    \n",
    "    return ' '.join([word for word in row.split() if len(word) > 2])"
   ]
  },
  {
   "cell_type": "code",
   "execution_count": 13,
   "id": "38ef552e",
   "metadata": {},
   "outputs": [
    {
     "data": {
      "application/vnd.jupyter.widget-view+json": {
       "model_id": "0c26278c8cfd4b439db7f4748c70d9fc",
       "version_major": 2,
       "version_minor": 0
      },
      "text/plain": [
       "  0%|          | 0/142570 [00:00<?, ?it/s]"
      ]
     },
     "metadata": {},
     "output_type": "display_data"
    }
   ],
   "source": [
    "df_processed = df.copy(deep = True)\n",
    "\n",
    "for i in trange(df.shape[0]):\n",
    "    df_processed.loc[i, 'content'] = preprocess(df_processed.loc[i, 'content'])"
   ]
  },
  {
   "cell_type": "code",
   "execution_count": 15,
   "id": "3d3bcf45",
   "metadata": {},
   "outputs": [
    {
     "data": {
      "text/plain": [
       "'death may the great equalizer, but isn’t necessarily evenhanded. all the field endeavor that suffered mortal loss 2016 consider muhammad ali and arnold palmer sport and the hollywood death carrie fisher and debbie reynolds the pop music world had, hand down, the bleakest year. start with david bowie, whose stage persona androgynous glam rocker, dance pop star, electronic experimentalist his music. the year only day old when the news came that had died cancer 69. had hinted that his time short the lyric his final album, released just two day before his death, but had otherwise gone great length hide his illness from the public, wish for privacy that ensured that his death would appear have come out the blue. then came another shock, about three month later, when prince accidentally overdosed painkiller and collapsed elevator his sprawling home studio near minneapolis. death came him 57, and all indication one, including prince rogers nelson, had seen coming. energetic onstage ever, holding otherwise healthy regimen, had successfully defied age into his sixth decade, why not death, too? leonard cohen, the other hand, his 83rd year, undoubtedly did see coming, just over his shoulder, but went his hesitate say merry way, ever the wise, troubadour playing sellout crowd and shrugging the inevitable, knowing that the dark would finally overtake him but saying essentially, “until then, here’s another song. 2016 hadn’t delivered enough jolt the system when closed out the year with yet another death. george michael, the 1980s sensation whose aura had dimmed later years, when went bed and never woke christmas. pop music figure fell all year, many their voice still embedded the nicked vinyl groove old record that lot people can’t bear throw out. the roster included paul kantner jefferson airplane keith emerson and greg lake emerson, lake and palmer glenn frey the eagle and maurice white earth, wind fire. leon russell, the piano pounder with delta blue wail and mountain man’s mass hair, died. did merle haggard, rugged country poet the common man and the outlaw. joined the bluegrass legend ralph stanley and the guitar virtuoso who practically glued elvis’s swiveling hip the early days: scotty moore. and then there george martin, whose genius had such creative influence the sound john, paul, george and ringo (and, extension, the entire rock era) that hailed the fifth beatle. the music star could fill arenas, could idol another stripe: the mighty athlete who left the scene. figure among them towering ali. some called him the greatest sport figure the 20th century, the boxer who combined power, grace and brain way the ring had never seen. but more than great athlete. matter war, race and religion coursed through his life publicly turbulent way. some people hated him when refused drafted during the vietnam war, decision that cost him his heavyweight title. but more people admired him, even loved him, for his principled stands, his high spirits, his lightning mind, his winking and, yes, his rhyming motormouth. until illness closed in, little could contain him, certainly not mere rope around ring. palmer, too, transformational, golf’s first medium star. the gentleman’s game never quite the same after began gathering army the rolling greensward and leading charge, his shirt coming untucked, cigarette dangling from his lips, his club just that, weapon, pressed the attack. entire generation postwar guy took the game because arnie, and not few woman did, too. athletically blessed, magnetically cool, telegenically handsome but somehow one them, too. the same said gordie howe, mr. hockey, son the saskatchewan prairie who tore the national hockey league, hung his skate and died and ralph branca, trolley car conductor’s son who living reminder that one crushing mistake his, the fastball bobby thomson that decided the 1951 national league pennant can sometimes never lived down. pat summitt, the coach who elevated women’s basketball, led her tennessee team eight championship and won more game than any other college coach, could not defeat alzheimer’s disease, dying 64. and within month the national basketball association lost two giant from different eras. clyde lovelette, olympic, college and champion who transformed the game one first truly big men, his hardwood heir nate thurmond, defensive stalwart who battled russell, wilt and kareem the paint hall fame career, 74. even older, the baseball ranks, monte irvin. when died 96, there were few people still around who could remember watching him play, particularly his prime, the 1940s, when star the negro circuit but barred from the major leagues. made the hall fame anyway new york giant and became major league baseball’s first black executive, but when died, fan pondered again the question that hung over many athletic career shackled discrimination: what if? different question, entirely different sphere, arose after the stunning news that justice antonin scalia had died hunting trip texas: what now? the thick one the most consequential supreme court career modern times, left void conservative jurisprudence and, more urgently, vacancy the bench that yet filled, raising still more question about what may await the country. other exit from the public stage returned the past. nancy reagan’s death evoked the 1980s white house, where glamour and west coast conservatism took residence the bank the potomac. john glenn’s had thinking again about burst national pride soaring into outer space. the death tom hayden and daniel berrigan, avatar defiance, harked back the student rebellion the 1960s and the vietnam war’s roiling home front. phyllis schlafly’s obituary were window the root the right wing’s ascension american politics. the death janet reno, the first woman serve attorney general, recalled the clinton years, all eight them, from the firestorm waco, tex. the international tug war over cuban boy named elián gonzález, the bitter senate battle over impeachment. other shores, fidel castro’s death summoned memory cuban revolution, nuclear brinkmanship and enduring enmity between strongman and the superpower only mile away. the name boutros the egyptian diplomat who led the united nations, led replayed nightmare genocide rwanda and bosnia. the death shimon peres removed last link the very founding israel and conjured decade growing military power and fitful striving for peace. and that elie wiesel, new york, after his tireless struggle compel the world never forget, made confront once again the gas chamber auschwitz. writers, too, are even fiction, then the world poorer without the literary voice harper lee, umberto eco, pat conroy, jim harrison, anita brookner, alvin toffler, gloria naylor and william trevor, not mention the playwright peter shaffer, dario and, edward albee all dead 2016. but just treasured were those who spun for our viewing pleasure none more lustily than ms. fisher, the princess leia the “star wars” tales. just day later, capping year startling deaths, ms. reynolds, singing and acting leading lady earlier era, died the throe mother’s grief. devotee the “harry potter” movie were saddened the death alan rickman, who played the deliciously dour professor severus snape that blockbuster franchise but whose career, both stage and screen, far richer than many snape’s younger fan may have known. zsa zsa gabor’s celebrity, contrast, outshone modest acting career. gene wilder and garry shandling died the same year, both having perfected brand hilariously neurotic comedy fit for culture. and this time abe vigoda, the “godfather” movie and “barney miller,” actually did die, after having not actually done year ago when wildly uninformed people spread the word that had. the other side the camera were director whose vision came from all parts: jacques rivette, the french new wave auteur, with his meditation life and art abbas kiarostami, the iranian master, with his searching examination ordinary life andrzej wajda, rival ingmar bergman and akira kurosawa some critics’ eyes, with his haunting tale poland under the boot first nazi and then communists. long roster television star generation two ago passed on, image their younger self frozen time: noel neill (“adventures superman”) alan young (“mister ed”) robert vaughn (“the man from william schallert and patty duke (father and daughter “the patty duke show”) dan haggerty (“the life and time grizzly adams”) florence henderson (“the brady bunch”) and alan thicke (“growing pains”). and garry marshall, the creative force who practically owned prime time with “happy days,” “mork mindy,” “laverne shirley” and more, died 81. broadway, light were dimmed memory brian bedford, tammy grime and anne jackson, all brilliant their day. the architect zaha hadid left behind monument her fertile imagination and shaken acolyte around the world. the street photographer bill cunningham, who found fashion statement every corner, suddenly missing, making manhattan, overnight, idiosyncratic, interesting place. that smiling skinny man pedaling his bicycle among the honking cab blue french worker’s jacket with camera slung around his neck what picture! had split from the scene. had seemingly generation fellow photographer who had made art recording the last half the 20th century: ruth gruber, marc riboud, louis stettner and more. and had the journalist morley safer and gwen ifill and the commentator john mclaughlin, all whom had tried make sense it. music’s other precinct were emptier without the conductor and revolutionary composer pierre boulez and the new music soprano phyllis curtin the jazz artist mose allison, bobby hutcherson and gato barbieri the rapper phife dawg (malik taylor) and the latin megastar juan gabriel. silicon valley saw giant depart andrew grove, who led the semiconductor revolution intel. the television industry lost executive, grant tinker, who the ’80s made nbc the network watch prime time. astrophysics, and the smaller world woman science, said farewell pioneer and champion vera rubin. and for ten thousand people who might have choked death had they not been saved his simple but ingenious maneuver, the passing henry heimlich prompted not just sympathy but, even more, gratitude. come think it, eliciting large, silent, thank you from those who live not bad way for anyone go. which brings marion pritchard. few who died 2016 could have inspired measure gratitude more profound. she brave young dutch student and gentile who risked her life save jew from death camp the early 1940s, one instance shooting nazi stooge before could seize three little child she had been hiding. her estimate she saved 150 people. how many were still alive when she died few week ago anyone’s guess. but know for certain that some were, and can reasonably surmise that good many more were, too, all them still possession her selfless gift and her matchless legacy, their very lives.'"
      ]
     },
     "execution_count": 15,
     "metadata": {},
     "output_type": "execute_result"
    }
   ],
   "source": [
    "df_processed.loc[3, 'content']"
   ]
  },
  {
   "cell_type": "code",
   "execution_count": 16,
   "id": "49084572",
   "metadata": {},
   "outputs": [],
   "source": [
    "# save processed dataframe if needed\n",
    "\n",
    "df_processed.to_csv('processed_articles.csv')"
   ]
  },
  {
   "cell_type": "code",
   "execution_count": 18,
   "id": "18fa1465",
   "metadata": {},
   "outputs": [],
   "source": [
    "# remove any weird blank articles\n",
    "\n",
    "df_processed = df_processed[pd.isna(df_processed['title']) == False]\n",
    "df_processed = df_processed[pd.isna(df_processed['content']) == False]\n",
    "df = df[pd.isna(df['title']) == False]\n",
    "df = df[pd.isna(df['content']) == False]"
   ]
  },
  {
   "cell_type": "code",
   "execution_count": 22,
   "id": "b2ad7a5a",
   "metadata": {},
   "outputs": [],
   "source": [
    "# sklearn tfidf model\n",
    "\n",
    "content = df_processed['content']\n",
    "model = TfidfVectorizer(max_df = 0.25, stop_words = 'english', use_idf = True, smooth_idf = True)"
   ]
  },
  {
   "cell_type": "code",
   "execution_count": 23,
   "id": "4cefec3b",
   "metadata": {},
   "outputs": [],
   "source": [
    "# transform content into tf idf matrix\n",
    "\n",
    "tfidf = model.fit_transform(content)"
   ]
  },
  {
   "cell_type": "code",
   "execution_count": 28,
   "id": "99ef4b59",
   "metadata": {},
   "outputs": [],
   "source": [
    "with open('model.pkl', 'wb') as f:\n",
    "    pickle.dump(model, f)\n",
    "\n",
    "with open('tfidf.pkl', 'wb') as f:\n",
    "    pickle.dump(tfidf, f)"
   ]
  },
  {
   "cell_type": "code",
   "execution_count": 112,
   "id": "f6588118",
   "metadata": {},
   "outputs": [],
   "source": [
    "def search(query, model, tfidf, qty):\n",
    "    query_transform = model.transform([query])\n",
    "    similarity = np.dot(query_transform, np.transpose(tfidf))\n",
    "    x = np.array(similarity.toarray()[0])\n",
    "    print(np.argsort(x))\n",
    "    return np.argsort(x)[-qty-1:][::-1][1:]"
   ]
  },
  {
   "cell_type": "code",
   "execution_count": 113,
   "id": "a4be7fec",
   "metadata": {},
   "outputs": [
    {
     "name": "stdout",
     "output_type": "stream",
     "text": [
      "[ 8185 62629 52757 ...  2447  2398  1245]\n"
     ]
    },
    {
     "data": {
      "text/plain": [
       "array([ 2398,  2447, 50476], dtype=int64)"
      ]
     },
     "execution_count": 113,
     "metadata": {},
     "output_type": "execute_result"
    }
   ],
   "source": [
    "query = df.loc[1245, 'content']\n",
    "search(query, model, tfidf, 3)"
   ]
  },
  {
   "cell_type": "code",
   "execution_count": 114,
   "id": "ba01613f",
   "metadata": {},
   "outputs": [
    {
     "data": {
      "text/plain": [
       "'MONTGOMERY, Ala.  —   When Luther Strange ran for attorney general in this   state in 2010, he appeared in an advertisement that spoke darkly of the Alabama capital’s “corruption, grand jury investigations, insider deals, abusing the public trust. ” Mr. Strange won that year’s general election easily, and then another one in 2014. But since ascending to the United States Senate this month, he has found his popularity threatened and his fellow Republicans troubled, largely because he accepted the appointment of Gov. Robert J. Bentley, a subject of an active investigation that the new senator spent months overseeing. A startling number of people in and around the State House openly suspect, but lack evidence to prove, that part of Mr. Bentley’s reason for appointing Mr. Strange to the Senate was to try to undermine the inquiry. Beyond clouding Mr. Strange’s early days in the Senate, the appointment to fill the seat of Jeff Sessions, President Trump’s new attorney general, has exacerbated the controversy that has publicly swirled around Mr. Bentley for almost a year. The maze of scandal  —   featuring sexually explicit conversations and the sudden firing of a top law enforcement official, and consuming hundreds of thousands of dollars from public and political bank accounts  —   has led to swelling demands for the impeachment of the governor, a Republican. “It’s like every time we turn around, there’s somebody else who is potentially going to jail, or being too greedy, or being too arrogant,” said State Representative Ed Henry, a Republican who has pushed for Mr. Bentley’s ouster. Mr. Bentley, 74, who did not agree to an interview request, has been on the defensive for nearly a year. In March, Spencer Collier, whom Mr. Bentley had fired as the head of the Alabama Law Enforcement Agency, accused the governor of having an affair with an aide and said the aide had served as the “de facto governor. ” An audio recording of Mr. Bentley, said to be in conversation with the woman, Rebekah Caldwell Mason, was leaked and left Alabama residents listening to the governor utter phrases like “when I stand behind you and I put my arms around you and I put my hands on your breasts. ” Mr. Bentley, whose wife of 50 years filed for divorce in August 2015, said he had apologized for “any conversations and behavior that was inappropriate,” but he insisted that he had not had a physical relationship with Mrs. Mason. Mrs. Mason, who declined to comment and whose husband leads the Governor’s Office of   and Volunteer Service, resigned as Mr. Bentley’s senior political adviser soon after the governor’s public acknowledgment of misconduct. Mr. Bentley’s words and Mrs. Mason’s formal exit  —   she and her husband have remained connected to the governor and traveled to last month’s presidential inauguration with him  —   did little to curb outrage. Lawsuits emerged, federal and state investigations began, and at least one grand jury here has been considering evidence. Mr. Strange, a former lobbyist widely regarded as ambitious and long seen as the future of Republican politics in Alabama, attended some of the grand jury testimony. Then Mr. Bentley, in his second and final term, chose Mr. Strange as Mr. Sessions’s replacement in the Senate and scheduled a special election for 2018. When his appointment was announced, Mr. Strange, 63, said the rampant speculation about an inquiry involving the governor was “unfair to him and unfair to the process. ” He also said, in a remark that has since been parsed, analyzed and criticized, “We have never said in our office that we are investigating the governor. ” Less than a week later, the man Mr. Bentley chose to succeed Mr. Strange as attorney general, Steven T. Marshall, appointed Alabama’s equivalent of a special prosecutor and asked her to “assume oversight of the state’s interest in the current investigative matter relating to Gov. Robert Bentley, to include all potential criminal matters arising from that investigation. ” One of the lawyers leading the inquiry, Matt Hart, helped to secure the conviction last year of Michael G. Hubbard, then the speaker of the State House of Representatives. Although many senior Republicans in Alabama and in Washington strongly urged Mr. Bentley to appoint Mr. Strange, the only one of six finalists to have been elected statewide, the choice and Mr. Marshall’s acknowledgment of an investigation still upset many people here. “Luther would have been the man to beat in an election,” said State Representative Corey Harbison, a Republican who decided to support Mr. Bentley’s impeachment because of misgivings about why the governor named Mr. Strange to the Senate. “He would have been solid, and he probably would have beaten the governor’s appointment. ” He added, “Luther’s ambition to become a United States senator caused him to do things that I don’t think he would have done in normal circumstances. ” Mr. Harbison said he would have strongly considered supporting Mr. Strange in next year’s special election. Mr. Strange said in a statement that he was confident that prosecutors in his former office would “relentlessly pursue the rule of law,” and his allies noted that his Senate appointment had hardly derailed the inquiry related to Mr. Bentley. “My own commitment to rooting out corruption in government speaks for itself,” Mr. Strange said. “That vow has never wavered and will continue to guide me as I serve the people of Alabama in the U. S. Senate. ” But Republicans are talking regularly of the political obstacles the senator might confront next year, when he could face a primary campaign focused more on ethics than on devotion to conservative policy ideas. Perry Hooper Jr. a former member of the Legislature who was a finalist for the Senate seat, said he was considering a challenge to Mr. Strange that could center on the circumstances of the appointment. And Mr. Strange’s new political patron, Mr. Bentley, is unlikely to be of much help. According to an internal poll commissioned by Republican officeholders and described by several Republicans who were not authorized to discuss a confidential survey, the governor’s approval rating is at an abysmally low level. “It’s very important in our state for our governor to be recognized and acknowledged as the strongest elected official in the state of Alabama,” said John H. Merrill, a Republican and the secretary of state. “I don’t think that there are a whole lot of people in our state who would think the governor is in that position today. ” With Mr. Strange’s turn at the ballot box more than a year away, Mr. Bentley is in more immediate political jeopardy. This is chiefly because his choice of Mr. Strange for the Senate seat has helped spur new support for an impeachment push that Mr. Henry conceded had been “fizzling out. ” (Last year, Mr. Strange asked the Legislature to suspend its impeachment inquiry because his office was conducting “related work. ” For now, the Legislature’s review, part of a murky process, remains on hold and a large number of lawmakers have said its findings would prove decisive in any votes they cast on impeachment.) “I met with him the day he appointed Luther Strange and told him, ‘If you do this, it will be the end,’” Mr. Henry recalled of a recent conversation with the governor. “He believed that was his best appointment, and it did nothing but   his impeachment, and I believe it has probably   a potential indictment. It reeked of corruption. ” One of Mr. Bentley’s lawyers, William C. Athanas, said that Mr. Bentley would “cooperate fully” in the state’s inquiry but that it would be “inappropriate for the governor to comment on the substance of this matter. ” Even if the criminal investigations remain open, some House Republicans believe that by the end of May, they will have settled the matter of whether Mr. Bentley will keep his job. Despite winning two statewide general elections with ease, Mr. Bentley is frequently isolated. Still, after Mr. Bentley had decided to promote a man who was investigating him to the Senate, he called Mr. Hooper to talk. He spoke of old alliances and cherished relationships. “You can’t buy loyalty,” Mr. Bentley told Mr. Hooper, “and you can’t buy friendship. ”'"
      ]
     },
     "execution_count": 114,
     "metadata": {},
     "output_type": "execute_result"
    }
   ],
   "source": [
    "df.loc[1245, 'content']"
   ]
  },
  {
   "cell_type": "code",
   "execution_count": 118,
   "id": "148e25e8",
   "metadata": {},
   "outputs": [
    {
     "data": {
      "text/plain": [
       "'Governor Robert Bentley on Thursday named Strange to take Sessions’s place in the Senate until a special election is held next year. Normally, the selection of a state’s attorney general to temporarily assume a Senate seat would not generate much controversy. It’s a common stepping stone in politics —  just ask Sessions, the nation’s new attorney general who served in the same office in Alabama before he first won his Senate seat in 1996. But Bentley’s decision has come under immediate scrutiny because Strange, as attorney general, might be investigating the   governor for impropriety related to an affair he had with a top political adviser that became public last year. Strange will neither confirm nor deny whether a probe is taking place. “We have never said in our office that we are investigating the governor,” the attorney    told reporters in Montgomery moments after Bentley, who stood nearby, announced his appointment. “And I think it’s somewhat actually unfair to him and unfair to the process that that has been reported out there. ” An Ethics Conviction in Alabama, The reason the possible investigation had been reported in the first place is that Strange last fall wrote a letter urging the Alabama House Judiciary Committee to halt an impeachment inquiry it had launched into the governor’s actions “until I am able to report to you that the necessary related work of my office has been completed. ” Neither Strange nor his office has expanded on what the “necessary related work” might entail, and Strange on Thursday said the letter “speaks for itself. ” Bentley also gets to name Strange’s replacement as attorney general. “Now the whole matter looks even more unseemly,” Erick Erickson wrote on Wednesday following news that Strange’s appointment was imminent. The conservative activist argued that regardless of whether it was truly improper or not, Bentley’s decision would give “the left” ammunition to press a broader case of corruption against the GOP in the Trump era. “Luther Strange is probably caught innocently in the middle, but perception is a powerful thing,” Erickson wrote. “Getting the legislature to suspend an impeachment against the governor, then having the governor appoint him as United States senator, sure smells of quid pro quo. ” The questions over Strange’s appointment add to a string of controversies in the state: Alabama has been embroiled in one political scandal after another in the last few years, touching all three branches of its government. The   chief justice of the Alabama supreme court, Roy Moore, was suspended last year for violating the state’s judicial ethics code by ordering judges not to issue marriage licenses to   couples in defiance of federal law. The former speaker of the Alabama House, Michael Hubbard, was sentenced to four years in prison following his conviction on corruption charges. And Bentley is fighting just to finish out his term, which ends in 2018. The governor’s standing began to unravel soon after his wife of 50 years filed to divorce him in the summer of 2015. In March 2016, Bentley fired Spencer Collier as head of the Alabama Law Enforcement Agency, saying that an investigation had turned up evidence of misused funds. Two days after his ouster, Collier publicly alleged that the governor was having an affair with a top political adviser, Rebekah Caldwell Mason, and accused Bentley of misusing state money to carry it on. Then came the leak of a phone recording of the governor in which he is heard making sexually suggestive comments to Mason. Bentley apologized for his language, but he denied a physical affair with Mason and refused to quit. Until recently, the Alabama Republican least touched by controversy was Strange. Known as “Big Luther” for his towering height (he’s   ) Strange, 63, has been on the political rise for several years, having won praise for his role in negotiating a settlement with BP after the massive oil spill of 2010. He recused himself from the Hubbard investigation because the speaker had donated to his campaign, and he has kept a close relationship with Bentley despite the probe that his office may or may not be undertaking. “People think we don’t talk a lot. We talk all the time,” Bentley said on Thursday, noting the two men had “a long history” of working together. And even the governor could not resist a play on his memorable name. “Luther,” he said, “is not a stranger in Washington. ” Politically, Strange is known as a    conservative, and he had already announced his intention to run in the election for Senate in 2018. He’ll now have the advantage of incumbency, but in a red state full of ambitious Republicans, he’s unlikely to have a clear path to the nomination. After winning his job from an embattled governor, Strange’s biggest immediate challenge may be the mess he escaped back home.'"
      ]
     },
     "execution_count": 118,
     "metadata": {},
     "output_type": "execute_result"
    }
   ],
   "source": [
    "df.loc[50476, 'content']"
   ]
  },
  {
   "cell_type": "code",
   "execution_count": null,
   "id": "c01e5566",
   "metadata": {},
   "outputs": [],
   "source": []
  }
 ],
 "metadata": {
  "kernelspec": {
   "display_name": "Python 3",
   "language": "python",
   "name": "python3"
  },
  "language_info": {
   "codemirror_mode": {
    "name": "ipython",
    "version": 3
   },
   "file_extension": ".py",
   "mimetype": "text/x-python",
   "name": "python",
   "nbconvert_exporter": "python",
   "pygments_lexer": "ipython3",
   "version": "3.9.4"
  }
 },
 "nbformat": 4,
 "nbformat_minor": 5
}
